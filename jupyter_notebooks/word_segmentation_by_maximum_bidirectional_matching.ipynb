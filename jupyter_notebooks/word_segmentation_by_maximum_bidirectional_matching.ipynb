{
 "cells": [
  {
   "cell_type": "markdown",
   "metadata": {},
   "source": [
    "# 分词之最大双向匹配算法"
   ]
  },
  {
   "cell_type": "markdown",
   "metadata": {},
   "source": [
    "最大双向匹配算法是利用词典进行分词的一个算法，融合了前向前向最大匹配和后向最大匹配。"
   ]
  },
  {
   "cell_type": "markdown",
   "metadata": {},
   "source": [
    "前向最大匹配就是从前往后，每次都取出词典中存在的最长的词，后向匹配则与之相反，最后在结合时，根据分词结果中单个字的数量、非登录词的数量和词的总数量，从两个结果中选出一个。代码如下："
   ]
  },
  {
   "cell_type": "code",
   "execution_count": 1,
   "metadata": {},
   "outputs": [],
   "source": [
    "# 词典中词的最大长度\n",
    "window_size = 4\n",
    "\n",
    "\n",
    "def fmm(source, words_dict):\n",
    "    len_source = len(source)\n",
    "    index = 0\n",
    "    words = []  # 存储分词结果\n",
    " \n",
    "    while index < len_source:\n",
    "        match = False\n",
    "        for i in range(window_size, 0, -1):\n",
    "            sub_str = source[index: index+i]\n",
    "            if sub_str in words_dict:\n",
    "                match = True\n",
    "                words.append(sub_str)\n",
    "                index += i\n",
    "                break\n",
    "        if not match:\n",
    "            words.append(source[index])\n",
    "            index += 1\n",
    "    return words\n",
    "\n",
    "\n",
    "def bmm(source, words_dict):\n",
    "    len_source = len(source)  # 原句长度\n",
    "    index = len_source\n",
    "    words = []  # 分词后句子每个词的列表\n",
    " \n",
    "    while index > 0:\n",
    "        match = False\n",
    "        for i in range(window_size, 0, -1):\n",
    "            sub_str = source[index-i: index]\n",
    "            if sub_str in words_dict:\n",
    "                match = True\n",
    "                words.append(sub_str)\n",
    "                index -= i\n",
    "                break\n",
    "        if not match:\n",
    "            words.append(source[index-1])\n",
    "            index -= 1\n",
    "    words.reverse()  # 得到的列表倒序\n",
    "    return words\n",
    "    \n",
    "\n",
    "def bi_mm(source, words_dict):\n",
    "    forward = fmm(source, words_dict)\n",
    "    backward = bmm(source, words_dict)\n",
    "    # 正反向分词结果\n",
    "    print(\"FMM: \", forward)\n",
    "    print(\"BMM: \", backward)\n",
    "    # 单字词个数\n",
    "    f_single_word = 0\n",
    "    b_single_word = 0\n",
    "    # 总词数\n",
    "    tot_fmm = len(forward)\n",
    "    tot_bmm = len(backward)\n",
    "    # 非字典词数\n",
    "    oov_fmm = 0\n",
    "    oov_bmm = 0\n",
    "    # 罚分，罚分值越低越好\n",
    "    score_fmm = 0\n",
    "    score_bmm = 0\n",
    "    # 如果正向和反向结果一样，返回任意一个\n",
    "    if forward == backward:\n",
    "        return backward\n",
    "    # print(backward)\n",
    "    else:  # 分词结果不同，返回单字数、非字典词、总词数少的那一个\n",
    "        for each in forward:\n",
    "            if len(each) == 1:\n",
    "                f_single_word += 1\n",
    "        for each in backward:\n",
    "            if len(each) == 1:\n",
    "                b_single_word += 1\n",
    "        for each in forward:\n",
    "            if each not in words_dict:\n",
    "                oov_fmm += 1\n",
    "        for each in backward:\n",
    "            if each not in backward:\n",
    "                oov_bmm += 1\n",
    "        # 可以根据实际情况调整惩罚分值\n",
    "        # 这里都罚分都为1分\n",
    "        # 非字典词越少越好\n",
    "        if oov_fmm > oov_bmm:\n",
    "            score_bmm += 1\n",
    "        elif oov_fmm < oov_bmm:\n",
    "            score_fmm += 1\n",
    "        # 总词数越少越好\n",
    "        if tot_fmm > tot_bmm:\n",
    "            score_bmm += 1\n",
    "        elif tot_fmm < tot_bmm:\n",
    "            score_fmm += 1\n",
    "        # 单字词越少越好\n",
    "        if f_single_word > b_single_word:\n",
    "            score_bmm += 1\n",
    "        elif f_single_word < b_single_word:\n",
    "            score_fmm += 1\n",
    " \n",
    "        # 返回罚分少的那个\n",
    "        if score_fmm < score_bmm:\n",
    "            return forward\n",
    "        else:\n",
    "            return backward"
   ]
  },
  {
   "cell_type": "code",
   "execution_count": 2,
   "metadata": {
    "scrolled": true
   },
   "outputs": [
    {
     "name": "stdout",
     "output_type": "stream",
     "text": [
      "FMM:  ['研究生', '命', '的', '起源']\n",
      "BMM:  ['研究', '生命', '的', '起源']\n"
     ]
    },
    {
     "data": {
      "text/plain": [
       "['研究生', '命', '的', '起源']"
      ]
     },
     "execution_count": 2,
     "metadata": {},
     "output_type": "execute_result"
    }
   ],
   "source": [
    "words_dict = ['研究', '研究生', '生命', '起源', '用户', '使用', '满意']\n",
    "bi_mm(\"研究生命的起源\", words_dict)"
   ]
  },
  {
   "cell_type": "code",
   "execution_count": 3,
   "metadata": {},
   "outputs": [
    {
     "name": "stdout",
     "output_type": "stream",
     "text": [
      "FMM:  ['使用', '户', '满意']\n",
      "BMM:  ['使', '用户', '满意']\n"
     ]
    },
    {
     "data": {
      "text/plain": [
       "['使用', '户', '满意']"
      ]
     },
     "execution_count": 3,
     "metadata": {},
     "output_type": "execute_result"
    }
   ],
   "source": [
    "bi_mm(\"使用户满意\", words_dict)"
   ]
  }
 ],
 "metadata": {
  "kernelspec": {
   "display_name": "Python 3",
   "language": "python",
   "name": "python3"
  },
  "language_info": {
   "codemirror_mode": {
    "name": "ipython",
    "version": 3
   },
   "file_extension": ".py",
   "mimetype": "text/x-python",
   "name": "python",
   "nbconvert_exporter": "python",
   "pygments_lexer": "ipython3",
   "version": "3.7.4"
  }
 },
 "nbformat": 4,
 "nbformat_minor": 2
}
