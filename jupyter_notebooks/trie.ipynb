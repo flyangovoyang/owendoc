{
 "cells": [
  {
   "cell_type": "markdown",
   "metadata": {},
   "source": [
    "# 前缀树"
   ]
  },
  {
   "cell_type": "markdown",
   "metadata": {},
   "source": [
    "前缀树，又称Trie树、字典树，是查找算法中常见的一种数据结构。常用场景是词频统计、排序。"
   ]
  },
  {
   "cell_type": "markdown",
   "metadata": {},
   "source": [
    "### Trie树的代码分析\n",
    "\n",
    "- 优点：最大限度地减少无谓的字符串比较，查询效率比哈希表高\n",
    "- 缺点：空间换时间，比较吃内存"
   ]
  },
  {
   "cell_type": "code",
   "execution_count": 1,
   "metadata": {},
   "outputs": [
    {
     "name": "stdout",
     "output_type": "stream",
     "text": [
      "True\n",
      "False\n",
      "['her', 'hers', 'hell', 'hello']\n"
     ]
    }
   ],
   "source": [
    "\"\"\"\n",
    "Trie树\n",
    "\"\"\"\n",
    "\n",
    "__author__ = 'youngf'\n",
    "\n",
    "\n",
    "class TrieNode:\n",
    "    def __init__(self):\n",
    "        self.children = {}\n",
    "        self.last = False\n",
    "\n",
    "\n",
    "class Trie:\n",
    "    def __init__(self):\n",
    "        self.root = TrieNode()\n",
    "\n",
    "    def from_keys(self, words):\n",
    "        \"\"\" 批量添加词 \"\"\"\n",
    "        for word in words:\n",
    "            self.insert(word)\n",
    "\n",
    "    def insert(self, word):\n",
    "        \"\"\" 单条添加 \"\"\"\n",
    "        node = self.root\n",
    "        for a in list(word):\n",
    "            if not node.children.get(a):\n",
    "                node.children[a] = TrieNode()\n",
    "            node = node.children[a]\n",
    "        node.last = True\n",
    "\n",
    "    def search_word(self, word):\n",
    "        \"\"\" 全匹配搜索 \"\"\"\n",
    "        node = self.root\n",
    "        if not node:\n",
    "            return False\n",
    "\n",
    "        for a in list(word):\n",
    "            if not node.children.get(a):\n",
    "                return False\n",
    "            node = node.children[a]\n",
    "        return node.last\n",
    "\n",
    "    def search_prefix(self, prefix):\n",
    "        \"\"\" 前缀搜索 \"\"\"\n",
    "        node = self.root\n",
    "        if not node:\n",
    "            return False\n",
    "\n",
    "        for a in list(prefix):\n",
    "            if not node.children.get(a):\n",
    "                return False\n",
    "            node = node.children[a]\n",
    "        return True\n",
    "\n",
    "    def auto_complete(self, prefix):\n",
    "        \"\"\" 返回所有以prefix为前缀的词 \"\"\"\n",
    "\n",
    "        def iter_words(node, word, word_list):\n",
    "            if node.last:\n",
    "                word_list.append(word)  # trick: 只要不改变word_list的id，就能保持引用传递\n",
    "            if node.children:\n",
    "                for ch, children_node in node.children.items():  # 深度优先遍历\n",
    "                    iter_words(children_node, word + ch, word_list)\n",
    "\n",
    "        node = self.root\n",
    "        temp_word = ''\n",
    "        candidate_words = []\n",
    "\n",
    "        for ch in list(prefix):\n",
    "            if not node.children.get(ch):\n",
    "                # raise Exception('no such prefix')\n",
    "                return []\n",
    "            temp_word += ch\n",
    "            node = node.children[ch]\n",
    "\n",
    "        iter_words(node, temp_word, candidate_words)\n",
    "        return candidate_words\n",
    "\n",
    "\n",
    "if __name__ == '__main__':\n",
    "    t = Trie()\n",
    "    t.from_keys(['her', 'hell', 'hello', 'hers', 'cat'])\n",
    "    print(t.search_prefix('he'))\n",
    "    print(t.search_word('he'))\n",
    "    print(t.auto_complete('he'))"
   ]
  }
 ],
 "metadata": {
  "kernelspec": {
   "display_name": "Python 3",
   "language": "python",
   "name": "python3"
  },
  "language_info": {
   "codemirror_mode": {
    "name": "ipython",
    "version": 3
   },
   "file_extension": ".py",
   "mimetype": "text/x-python",
   "name": "python",
   "nbconvert_exporter": "python",
   "pygments_lexer": "ipython3",
   "version": "3.7.4"
  }
 },
 "nbformat": 4,
 "nbformat_minor": 2
}
