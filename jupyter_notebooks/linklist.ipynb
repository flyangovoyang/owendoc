{
 "cells": [
  {
   "cell_type": "markdown",
   "metadata": {},
   "source": [
    "# 单链表集锦"
   ]
  },
  {
   "cell_type": "code",
   "execution_count": 1,
   "metadata": {},
   "outputs": [],
   "source": [
    "class ListNode:\n",
    "    def __init__(self, val=0, next=None):\n",
    "        self.val = val\n",
    "        self.next = next\n",
    "\n",
    "\n",
    "def show(head):\n",
    "    res = []\n",
    "    cur = head\n",
    "    while cur is not None:\n",
    "        res.append(cur.val)\n",
    "        cur = cur.next\n",
    "    print(res)"
   ]
  },
  {
   "cell_type": "markdown",
   "metadata": {},
   "source": [
    "### 反转单链表"
   ]
  },
  {
   "cell_type": "code",
   "execution_count": 2,
   "metadata": {},
   "outputs": [],
   "source": [
    "def reverse_list(head: ListNode) -> ListNode:\n",
    "        if head is None:\n",
    "            return None\n",
    "        pre = head\n",
    "        cur = head.next\n",
    "        while cur is not None:\n",
    "            pre.next = cur.next\n",
    "            cur.next = head\n",
    "            head = cur\n",
    "            cur = pre.next\n",
    "        return head"
   ]
  },
  {
   "cell_type": "code",
   "execution_count": 3,
   "metadata": {},
   "outputs": [
    {
     "name": "stdout",
     "output_type": "stream",
     "text": [
      "[1, 2, 3, 4, 5]\n",
      "[5, 4, 3, 2, 1]\n"
     ]
    }
   ],
   "source": [
    "one = ListNode(1)\n",
    "two = ListNode(2)\n",
    "three = ListNode(3)\n",
    "four = ListNode(4)\n",
    "five = ListNode(5)\n",
    "\n",
    "head = one\n",
    "one.next = two\n",
    "two.next = three\n",
    "three.next = four\n",
    "four.next = five\n",
    "\n",
    "show(head)\n",
    "res = reverse_list(head)\n",
    "show(res)"
   ]
  }
 ],
 "metadata": {
  "kernelspec": {
   "display_name": "Python 3",
   "language": "python",
   "name": "python3"
  },
  "language_info": {
   "codemirror_mode": {
    "name": "ipython",
    "version": 3
   },
   "file_extension": ".py",
   "mimetype": "text/x-python",
   "name": "python",
   "nbconvert_exporter": "python",
   "pygments_lexer": "ipython3",
   "version": "3.7.4"
  }
 },
 "nbformat": 4,
 "nbformat_minor": 2
}
