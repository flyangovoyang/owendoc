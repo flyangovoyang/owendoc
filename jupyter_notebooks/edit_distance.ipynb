{
 "cells": [
  {
   "cell_type": "markdown",
   "metadata": {},
   "source": [
    "# 编辑距离"
   ]
  },
  {
   "cell_type": "markdown",
   "metadata": {},
   "source": [
    "编辑距离是粗粒度的文本相似度算法。"
   ]
  },
  {
   "cell_type": "code",
   "execution_count": 1,
   "metadata": {},
   "outputs": [],
   "source": [
    "def edit_distance(s1: str, s2: str) -> int:\n",
    "    m = len(s1)\n",
    "    n = len(s2)\n",
    "    dp = [0] * (n + 1)\n",
    "\n",
    "    for j in range(1, n + 1):\n",
    "        dp[j] = j\n",
    "\n",
    "    for i in range(1, m + 1):\n",
    "        pre = dp[0]  # pre表示左上角的数字\n",
    "        dp[0] = i\n",
    "        for j in range(1, n + 1):\n",
    "            temp = dp[j]  # temp表示上方的数字，先取出来保存，避免被覆盖\n",
    "            if s1[i - 1] == s2[j - 1]:\n",
    "                dp[j] = pre\n",
    "            else:\n",
    "                dp[j] = min(min(pre, dp[j - 1]), dp[j]) + 1  # dp[j-1]表示左侧的数字\n",
    "            pre = temp\n",
    "    return dp[n]"
   ]
  },
  {
   "cell_type": "code",
   "execution_count": 2,
   "metadata": {},
   "outputs": [
    {
     "data": {
      "text/plain": [
       "12"
      ]
     },
     "execution_count": 2,
     "metadata": {},
     "output_type": "execute_result"
    }
   ],
   "source": [
    "edit_distance('重庆永川煤矿事故已致18人遇难 1名幸存者被救出', '重庆永川一煤矿发生事故致18人遇难 已成功救出幸存者1名')"
   ]
  }
 ],
 "metadata": {
  "kernelspec": {
   "display_name": "Python 3",
   "language": "python",
   "name": "python3"
  },
  "language_info": {
   "codemirror_mode": {
    "name": "ipython",
    "version": 3
   },
   "file_extension": ".py",
   "mimetype": "text/x-python",
   "name": "python",
   "nbconvert_exporter": "python",
   "pygments_lexer": "ipython3",
   "version": "3.7.4"
  }
 },
 "nbformat": 4,
 "nbformat_minor": 2
}
