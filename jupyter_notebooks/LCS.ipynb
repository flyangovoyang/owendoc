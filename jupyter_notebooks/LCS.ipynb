{
 "cells": [
  {
   "cell_type": "markdown",
   "metadata": {},
   "source": [
    "# 最长公共子串和最长公共子序列"
   ]
  },
  {
   "cell_type": "markdown",
   "metadata": {},
   "source": [
    "LCS既可以指Longest Common Substring，即最长公共子串；也可以指Longest Common Subsequence，即最长公共子序列。"
   ]
  },
  {
   "cell_type": "markdown",
   "metadata": {},
   "source": [
    "二者的区别是：子序列在原字符串中不一定是连续的，串必须是连续的。"
   ]
  },
  {
   "cell_type": "markdown",
   "metadata": {},
   "source": [
    "### 最长公共子串"
   ]
  },
  {
   "cell_type": "markdown",
   "metadata": {},
   "source": [
    "用动态规划的思想，求s1[:i]和s2[:j]的最大后缀长度即可。"
   ]
  },
  {
   "cell_type": "markdown",
   "metadata": {},
   "source": [
    "- 如果s1[i-1] == s2[j-1]，LCS(i,j) = LCS(i-1, j-1) + 1\n",
    "- 否则，LCS(i,j) = 0"
   ]
  },
  {
   "cell_type": "code",
   "execution_count": 6,
   "metadata": {},
   "outputs": [],
   "source": [
    "def longest_common_substring(s1, s2):\n",
    "    assert isinstance(s1, str) and isinstance(s2, str), 's1, s2 should be strings'\n",
    "    m = len(s1)\n",
    "    n = len(s2)\n",
    "    if m == 0 or n == 0:\n",
    "        return ''\n",
    "\n",
    "    dp = [[0] * (n + 1) for _ in range(m + 1)]\n",
    "    max_length = 0\n",
    "    longest_substring = ''\n",
    "    for i in range(m + 1):\n",
    "        for j in range(n + 1):\n",
    "            if i == 0 or j == 0:\n",
    "                dp[i][j] = 0\n",
    "            elif s1[i - 1] == s2[j - 1]:\n",
    "                dp[i][j] = dp[i - 1][j - 1] + 1\n",
    "                if dp[i][j] > max_length:\n",
    "                    max_length = dp[i][j]\n",
    "                    longest_substring = s1[i - max_length:i]\n",
    "            else:\n",
    "                dp[i][j] = 0\n",
    "    return longest_substring"
   ]
  },
  {
   "cell_type": "code",
   "execution_count": 7,
   "metadata": {},
   "outputs": [
    {
     "data": {
      "text/plain": "'最幸福'"
     },
     "execution_count": 7,
     "metadata": {},
     "output_type": "execute_result"
    }
   ],
   "source": [
    "longest_common_substring('我们都是最幸福的程序员', '许多大佬都在最幸福程序员评比中落选')"
   ]
  },
  {
   "cell_type": "markdown",
   "metadata": {},
   "source": [
    "### 最长公共子序列"
   ]
  },
  {
   "cell_type": "markdown",
   "metadata": {},
   "source": [
    "一样是动态规划。"
   ]
  },
  {
   "cell_type": "markdown",
   "metadata": {},
   "source": [
    "$$\n",
    "LCS[i,j] = \\begin{cases}\n",
    "0, & if \\quad i=0 \\quad or \\quad j=0\\\\\n",
    "LCS[i-1, j-1]+1, & if \\quad i,j>0 \\quad and \\quad x_i = y_j\\\\\n",
    "max(LCS(i, j-1), LCS(i-1, j)), & if \\quad i,j>0 \\quad and \\quad x_i \\not = y_j\n",
    "\\end{cases}\n",
    "$$"
   ]
  },
  {
   "cell_type": "markdown",
   "metadata": {},
   "source": [
    "只不过，此时由于要追溯出最长公共子序列，需要弄个额外的recording来记录。"
   ]
  },
  {
   "cell_type": "code",
   "execution_count": 3,
   "metadata": {},
   "outputs": [],
   "source": [
    "def longest_common_subsequence(s1: str, s2: str) -> str:\n",
    "    assert isinstance(s1, str) and isinstance(s2, str), 's1, s2 should be sting'\n",
    "    m, n = len(s1), len(s2)\n",
    "    dp = [[0]*(n+1) for _ in range(m+1)]\n",
    "    recording = [['none']*(n+1) for _ in range(m+1)]\n",
    "    for i in range(m+1):\n",
    "        for j in range(n+1):\n",
    "            if i == 0 or j == 0:\n",
    "                dp[i][j] = 0\n",
    "            else:\n",
    "                if s1[i-1] == s2[j-1]:\n",
    "                    dp[i][j] = dp[i-1][j-1] + 1\n",
    "                    recording[i][j] = 'left-top'\n",
    "                elif dp[i-1][j] > dp[i][j-1]:\n",
    "                    dp[i][j] = dp[i-1][j]\n",
    "                    recording[i][j] = 'top'\n",
    "                else:\n",
    "                    dp[i][j] = dp[i][j-1]\n",
    "                    recording[i][j] = 'left'\n",
    "    row, col = m, n\n",
    "    longest_sequence = []\n",
    "    while row > 0 and col > 0:\n",
    "        if recording[row][col] == 'left-top':\n",
    "            longest_sequence.append(s1[row-1])\n",
    "            row -= 1\n",
    "            col -= 1\n",
    "        elif recording[row][col] == 'left':\n",
    "            col -= 1\n",
    "        else:\n",
    "            row -= 1\n",
    "    return ''.join(longest_sequence[::-1])"
   ]
  },
  {
   "cell_type": "code",
   "execution_count": 4,
   "metadata": {},
   "outputs": [
    {
     "data": {
      "text/plain": "'都最幸福程序员'"
     },
     "execution_count": 4,
     "metadata": {},
     "output_type": "execute_result"
    }
   ],
   "source": [
    "longest_common_subsequence('我们都是最幸福的程序员', '许多大佬都在最幸福程序员评比中落选')"
   ]
  }
 ],
 "metadata": {
  "kernelspec": {
   "display_name": "Python 3",
   "language": "python",
   "name": "python3"
  },
  "language_info": {
   "codemirror_mode": {
    "name": "ipython",
    "version": 3
   },
   "file_extension": ".py",
   "mimetype": "text/x-python",
   "name": "python",
   "nbconvert_exporter": "python",
   "pygments_lexer": "ipython3",
   "version": "3.7.4"
  }
 },
 "nbformat": 4,
 "nbformat_minor": 2
}