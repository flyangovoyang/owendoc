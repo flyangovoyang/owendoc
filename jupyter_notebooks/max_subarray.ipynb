{
 "cells": [
  {
   "cell_type": "markdown",
   "metadata": {},
   "source": [
    "# 最大子数组"
   ]
  },
  {
   "cell_type": "markdown",
   "metadata": {},
   "source": [
    "分而治之的思想，就在于有些问题可以独立地划分成多个子问题，对这些子问题的答案进行合并，即可得到整个问题的答案。合并排序merge sort就是由这种思想诞生的一种经典排序算法。"
   ]
  },
  {
   "cell_type": "markdown",
   "metadata": {},
   "source": [
    "本文主要介绍的最大子数组问题，也是一种可以运用分治思想解决的问题。最大子数组要求一个数组中满足所有元素和最大的子数组，那么对于数组，我们可以一分为二，最大子数组可能在左侧，也可能在右侧，或者跨过中间线。于是，每个问题可以划分成三个子问题。"
   ]
  },
  {
   "cell_type": "code",
   "execution_count": 3,
   "metadata": {},
   "outputs": [],
   "source": [
    "def max_subarray(arr, low=None, high=None):\n",
    "    if not arr:\n",
    "        return None\n",
    "    if low is None and high is None:\n",
    "        low = 0\n",
    "        high = len(arr) - 1\n",
    "    if low == high:\n",
    "        return arr[low]\n",
    "    else:\n",
    "        middle = (low + high)//2\n",
    "        left_max = max_subarray(arr, low, middle)\n",
    "        right_max = max_subarray(arr, middle+1, high)\n",
    "\n",
    "        l_max = arr[middle]\n",
    "        l_sum = arr[middle]\n",
    "        for i in range(middle-1, low-1, -1):\n",
    "            l_sum += arr[i]\n",
    "            if l_sum > l_max:\n",
    "                l_max = l_sum\n",
    "\n",
    "        r_max = arr[middle+1]\n",
    "        r_sum = arr[middle+1]\n",
    "        for i in range(middle + 2, high + 1):\n",
    "            r_sum += arr[i]\n",
    "            if r_sum > r_max:\n",
    "                r_max = r_sum\n",
    "\n",
    "        return max([left_max, right_max, r_max + l_max])"
   ]
  },
  {
   "cell_type": "code",
   "execution_count": 5,
   "metadata": {
    "scrolled": false
   },
   "outputs": [
    {
     "data": {
      "text/plain": [
       "13"
      ]
     },
     "execution_count": 5,
     "metadata": {},
     "output_type": "execute_result"
    }
   ],
   "source": [
    "max_subarray([1, -2, 3, 4, -6, 11, -2, 3])"
   ]
  }
 ],
 "metadata": {
  "kernelspec": {
   "display_name": "Python 3",
   "language": "python",
   "name": "python3"
  },
  "language_info": {
   "codemirror_mode": {
    "name": "ipython",
    "version": 3
   },
   "file_extension": ".py",
   "mimetype": "text/x-python",
   "name": "python",
   "nbconvert_exporter": "python",
   "pygments_lexer": "ipython3",
   "version": "3.7.4"
  }
 },
 "nbformat": 4,
 "nbformat_minor": 2
}
