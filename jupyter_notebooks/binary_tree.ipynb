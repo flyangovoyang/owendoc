{
 "cells": [
  {
   "cell_type": "markdown",
   "metadata": {},
   "source": [
    "# 二叉树"
   ]
  },
  {
   "cell_type": "markdown",
   "metadata": {},
   "source": [
    "首先给出二叉树的定义。"
   ]
  },
  {
   "cell_type": "code",
   "execution_count": 1,
   "metadata": {},
   "outputs": [],
   "source": [
    "class TreeNode():\n",
    "    def __init__(self, x):\n",
    "        self.val = x\n",
    "        self.left = None\n",
    "        self.right = None"
   ]
  },
  {
   "cell_type": "markdown",
   "metadata": {},
   "source": [
    "### 创建二叉树"
   ]
  },
  {
   "cell_type": "code",
   "execution_count": 2,
   "metadata": {},
   "outputs": [
    {
     "data": {
      "text/plain": [
       "'\\n   1\\n 2   3\\n4 5   7\\n'"
      ]
     },
     "execution_count": 2,
     "metadata": {},
     "output_type": "execute_result"
    }
   ],
   "source": [
    "one = TreeNode(1)\n",
    "two = TreeNode(2)\n",
    "three = TreeNode(3)\n",
    "four = TreeNode(4)\n",
    "five = TreeNode(5)\n",
    "seven = TreeNode(7)\n",
    "\n",
    "one.left = two\n",
    "one.right = three\n",
    "\n",
    "two.left = four\n",
    "two.right = five\n",
    "\n",
    "three.right = seven\n",
    "\n",
    "root = one\n",
    "\n",
    "\"\"\"\n",
    "   1\n",
    " 2   3\n",
    "4 5   7\n",
    "\"\"\""
   ]
  },
  {
   "cell_type": "markdown",
   "metadata": {},
   "source": [
    "### 二叉树的迭代遍历"
   ]
  },
  {
   "cell_type": "markdown",
   "metadata": {},
   "source": [
    "#### 1. 先序遍历"
   ]
  },
  {
   "cell_type": "markdown",
   "metadata": {},
   "source": [
    "对于任何一个子树，打印当前子树根结点，用栈保存右子结点后直接跳转至左子结点，继续下一个子树循环。这样，当左子结点为空的时候，出栈并取出最近的右子结点即可实现先序遍历。"
   ]
  },
  {
   "cell_type": "code",
   "execution_count": 3,
   "metadata": {},
   "outputs": [],
   "source": [
    "def pre_order_traverse(root):\n",
    "    res = []\n",
    "    if root is None:\n",
    "        return res\n",
    "    nodes = [root]\n",
    "    while len(nodes) > 0:\n",
    "        node = nodes.pop()\n",
    "        while node is not None:\n",
    "            res.append(node.val)  # 输出\n",
    "            if node.right is not None:\n",
    "                nodes.append(node.right)\n",
    "            node = node.left\n",
    "    return res"
   ]
  },
  {
   "cell_type": "code",
   "execution_count": 4,
   "metadata": {},
   "outputs": [
    {
     "data": {
      "text/plain": [
       "[1, 2, 4, 5, 3, 7]"
      ]
     },
     "execution_count": 4,
     "metadata": {},
     "output_type": "execute_result"
    }
   ],
   "source": [
    "pre_order_traverse(root)"
   ]
  },
  {
   "cell_type": "markdown",
   "metadata": {},
   "source": [
    "#### 2. 中序遍历"
   ]
  },
  {
   "cell_type": "markdown",
   "metadata": {},
   "source": [
    "首先左移至当前子树最左叶子结点，沿途将所有结点压入栈。遇到左子结点为空，出栈打印，并观察该元素是否有右子结点，有则压栈、右移并在新的子树中重复循环，无则继续出栈打印观察。当辅助栈为空时，遍历结束。"
   ]
  },
  {
   "cell_type": "code",
   "execution_count": 5,
   "metadata": {},
   "outputs": [],
   "source": [
    "def in_order_traverse(root):\n",
    "    res = []\n",
    "    if root is None:\n",
    "        return res\n",
    "    nodes = [root]\n",
    "    node = root\n",
    "    while len(nodes) > 0:\n",
    "        while node.left is not None:\n",
    "            node = node.left\n",
    "            nodes.append(node)\n",
    "        node = nodes.pop()\n",
    "        res.append(node.val)\n",
    "        if node.right is not None:\n",
    "            node = node.right\n",
    "            nodes.append(node)\n",
    "    return res"
   ]
  },
  {
   "cell_type": "code",
   "execution_count": 6,
   "metadata": {},
   "outputs": [
    {
     "data": {
      "text/plain": [
       "[4, 2, 5, 1, 3, 7]"
      ]
     },
     "execution_count": 6,
     "metadata": {},
     "output_type": "execute_result"
    }
   ],
   "source": [
    "in_order_traverse(root)"
   ]
  },
  {
   "cell_type": "markdown",
   "metadata": {},
   "source": [
    "#### 3. 后序遍历"
   ]
  },
  {
   "cell_type": "markdown",
   "metadata": {},
   "source": [
    "开始步骤类似中序遍历，首先要找到最底层的左叶子结点，在不断左移的过程中，需要依次保存当前子树的根结点和右子结点。当左子结点为空时，观察右子结点是否为空，若不为空压栈，重复循环；若为空出栈打印，并判断是否需要连续回溯弹出。"
   ]
  },
  {
   "cell_type": "code",
   "execution_count": 7,
   "metadata": {},
   "outputs": [],
   "source": [
    "def post_order_traverse(root):\n",
    "    res = []\n",
    "    if root is None:\n",
    "        return res\n",
    "    nodes = [root]\n",
    "    while len(nodes) > 0:\n",
    "        node = nodes[-1]\n",
    "        while node.left is not None:\n",
    "            if node.right is not None:\n",
    "                nodes.append(node.right)\n",
    "            node = node.left\n",
    "            nodes.append(node)\n",
    "        if node.right is not None:\n",
    "            node = node.right\n",
    "            nodes.append(node)\n",
    "        else:\n",
    "            node = nodes.pop()\n",
    "            res.append(node.val)\n",
    "            while len(nodes) > 0 and (node is nodes[-1].right or node is nodes[-1].left):  # node == nodes.top().son()\n",
    "                node = nodes.pop()\n",
    "                res.append(node.val)\n",
    "    return res"
   ]
  },
  {
   "cell_type": "code",
   "execution_count": 8,
   "metadata": {},
   "outputs": [
    {
     "data": {
      "text/plain": [
       "[4, 5, 2, 7, 3, 1]"
      ]
     },
     "execution_count": 8,
     "metadata": {},
     "output_type": "execute_result"
    }
   ],
   "source": [
    "post_order_traverse(root)"
   ]
  }
 ],
 "metadata": {
  "kernelspec": {
   "display_name": "Python 3",
   "language": "python",
   "name": "python3"
  },
  "language_info": {
   "codemirror_mode": {
    "name": "ipython",
    "version": 3
   },
   "file_extension": ".py",
   "mimetype": "text/x-python",
   "name": "python",
   "nbconvert_exporter": "python",
   "pygments_lexer": "ipython3",
   "version": "3.7.4"
  }
 },
 "nbformat": 4,
 "nbformat_minor": 2
}
